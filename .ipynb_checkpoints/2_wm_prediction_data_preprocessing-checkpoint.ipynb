{
 "cells": [
  {
   "cell_type": "code",
   "execution_count": 1,
   "metadata": {},
   "outputs": [],
   "source": [
    "import os\n",
    "import numpy as np\n",
    "import progressbar\n",
    "import pandas as pd\n",
    "import psycopg2\n",
    "from sqlalchemy import create_engine\n",
    "from datetime import datetime\n",
    "from pandas.api.types import CategoricalDtype\n",
    "import sqlite3\n",
    "pd.set_option('display.max_columns', 500)\n"
   ]
  },
  {
   "cell_type": "code",
   "execution_count": 10,
   "metadata": {},
   "outputs": [],
   "source": [
    "# TODO Hier nochmal wie zwei Kacheln zuvor die Spalten aussortieren und richtig anordnen"
   ]
  },
  {
   "cell_type": "code",
   "execution_count": 11,
   "metadata": {},
   "outputs": [],
   "source": [
    "#player_absence = pd.read_sql_table('player_absence', engine)\n",
    "#player_absence['total'] = abs((player_absence['from'] - player_absence['to']))\n",
    "#player_absence.head()"
   ]
  },
  {
   "cell_type": "code",
   "execution_count": 14,
   "metadata": {},
   "outputs": [],
   "source": [
    "#save to csv\n",
    "prepared_matches.to_csv(\"prepared_matches.csv\", encoding='utf-8')"
   ]
  },
  {
   "cell_type": "markdown",
   "metadata": {},
   "source": [
    "## Data preprocessing part 2\n",
    "\n",
    "edit the collected data"
   ]
  },
  {
   "cell_type": "code",
   "execution_count": null,
   "metadata": {},
   "outputs": [],
   "source": [
    "#show null values\n",
    "pd.options.display.max_rows = 30#400\n",
    "prepared_matches.isnull().sum()\n",
    "#15745 rows"
   ]
  },
  {
   "cell_type": "code",
   "execution_count": null,
   "metadata": {},
   "outputs": [],
   "source": [
    "#add the information about the winning team to the table\n",
    "\n",
    "bar = progressbar.ProgressBar(max_value = len(prepared_matches))\n",
    "pd.options.mode.chained_assignment = None  # default='warn'\n",
    "\n",
    "prepared_matches[\"home_is_winner\"] = 0\n",
    "for index, row in prepared_matches.iterrows():\n",
    "    if prepared_matches[\"goals_home\"][index] > prepared_matches[\"goals_away\"][index]:\n",
    "        prepared_matches[\"home_is_winner\"][index] = 1\n",
    "    else:\n",
    "         prepared_matches[\"home_is_winner\"][index] = 0\n",
    "    bar.update(index) \n",
    "    \n",
    "prepared_matches.head(10)"
   ]
  },
  {
   "cell_type": "code",
   "execution_count": null,
   "metadata": {},
   "outputs": [],
   "source": [
    "prepared_matches_train = prepared_matches\n",
    "len(prepared_matches_train)"
   ]
  },
  {
   "cell_type": "code",
   "execution_count": null,
   "metadata": {},
   "outputs": [],
   "source": [
    "#drop all columns with unneccessary information\n",
    "prepared_matches_train = prepared_matches_train.drop([\"country_id_string_home\", \"country_id_int_home\", \"country_id_string_away\", \"country_id_int_away\", \n",
    "                             \"hp_1_id_string\", \"hp_1_name\", \"hp_1_country_id_string_away\", \"hp_1_position\",\n",
    "                             \"hp_2_id_string\", \"hp_2_name\", \"hp_2_country_id_string_away\", \"hp_2_position\",\n",
    "                             \"hp_3_id_string\", \"hp_3_name\", \"hp_3_country_id_string_away\", \"hp_3_position\",\n",
    "                             \"hp_4_id_string\", \"hp_4_name\", \"hp_4_country_id_string_away\", \"hp_4_position\",\n",
    "                             \"hp_5_id_string\", \"hp_5_name\", \"hp_5_country_id_string_away\", \"hp_5_position\",\n",
    "                             \"hp_6_id_string\", \"hp_6_name\", \"hp_6_country_id_string_away\", \"hp_6_position\",\n",
    "                             \"hp_7_id_string\", \"hp_7_name\", \"hp_7_country_id_string_away\", \"hp_7_position\",\n",
    "                             \"hp_8_id_string\", \"hp_8_name\", \"hp_8_country_id_string_away\", \"hp_8_position\",\n",
    "                             \"hp_9_id_string\", \"hp_9_name\", \"hp_9_country_id_string_away\", \"hp_9_position\",\n",
    "                             \"hp_10_id_string\", \"hp_10_name\", \"hp_10_country_id_string_away\", \"hp_10_position\",\n",
    "                             \"hp_11_id_string\", \"hp_11_name\", \"hp_11_country_id_string_away\", \"hp_11_position\",\n",
    "                             \"ap_1_id_string\", \"ap_1_name\", \"ap_1_country_id_string_away\", \"ap_1_position\",\n",
    "                             \"ap_2_id_string\", \"ap_2_name\", \"ap_2_country_id_string_away\", \"ap_2_position\",\n",
    "                             \"ap_3_id_string\", \"ap_3_name\", \"ap_3_country_id_string_away\", \"ap_3_position\",\n",
    "                             \"ap_4_id_string\", \"ap_4_name\", \"ap_4_country_id_string_away\", \"ap_4_position\",\n",
    "                             \"ap_5_id_string\", \"ap_5_name\", \"ap_5_country_id_string_away\", \"ap_5_position\",\n",
    "                             \"ap_6_id_string\", \"ap_6_name\", \"ap_6_country_id_string_away\", \"ap_6_position\",\n",
    "                             \"ap_7_id_string\", \"ap_7_name\", \"ap_7_country_id_string_away\", \"ap_7_position\",\n",
    "                             \"ap_8_id_string\", \"ap_8_name\", \"ap_8_country_id_string_away\", \"ap_8_position\",\n",
    "                             \"ap_9_id_string\", \"ap_9_name\", \"ap_9_country_id_string_away\", \"ap_9_position\",\n",
    "                             \"ap_10_id_string\", \"ap_10_name\", \"ap_10_country_id_string_away\", \"ap_10_position\",\n",
    "                             \"ap_11_id_string\", \"ap_11_name\", \"ap_11_country_id_string_away\", \"ap_11_position\",],  axis=1)\n",
    "\n",
    "prepared_matches_train = prepared_matches_train.drop([\"hp_1_starting\",\"hp_1_age\",\n",
    "                                                      \"hp_2_starting\",\"hp_2_age\",\n",
    "                                                      \"hp_3_starting\",\"hp_3_age\",\n",
    "                                                      \"hp_4_starting\",\"hp_4_age\",\n",
    "                                                      \"hp_5_starting\",\"hp_5_age\",\n",
    "                                                      \"hp_6_starting\",\"hp_6_age\",\n",
    "                                                      \"hp_7_starting\",\"hp_7_age\",\n",
    "                                                      \"hp_8_starting\",\"hp_8_age\",\n",
    "                                                      \"hp_9_starting\",\"hp_9_age\",\n",
    "                                                      \"hp_10_starting\",\"hp_10_age\",\n",
    "                                                      \"hp_11_starting\",\"hp_11_age\",\n",
    "                                                      \"ap_1_starting\",\"ap_1_age\",\n",
    "                                                      \"ap_2_starting\",\"ap_2_age\",\n",
    "                                                      \"ap_3_starting\",\"ap_3_age\",\n",
    "                                                      \"ap_4_starting\",\"ap_4_age\",\n",
    "                                                      \"ap_5_starting\",\"ap_5_age\",\n",
    "                                                      \"ap_6_starting\",\"ap_6_age\",\n",
    "                                                      \"ap_7_starting\",\"ap_7_age\",\n",
    "                                                      \"ap_8_starting\",\"ap_8_age\",\n",
    "                                                      \"ap_9_starting\",\"ap_9_age\",\n",
    "                                                      \"ap_10_starting\",\"ap_10_age\",\n",
    "                                                      \"ap_11_starting\",\"ap_11_age\"],  axis=1)\n",
    "\n",
    "prepared_matches_train = prepared_matches_train.drop([\"country_name_home\",\"country_name_away\", \"country_full_home\", \"country_abrv_home\",  \"country_full_away\", \"country_abrv_away\"],  axis=1)\n",
    "\n",
    "prepared_matches_train = prepared_matches_train.drop([\"goals_home\",\"goals_away\"], axis=1)\n",
    "\n",
    "prepared_matches_train.head(10)"
   ]
  },
  {
   "cell_type": "code",
   "execution_count": null,
   "metadata": {},
   "outputs": [],
   "source": [
    "#drop all columns with more than 10000 NaN (of 15000)\n",
    "for column in prepared_matches_train:\n",
    "    if prepared_matches_train[column].isnull().sum() > 10000:\n",
    "        prepared_matches_train =  prepared_matches_train.drop(column, axis=1)\n",
    "\n",
    "prepared_matches_train.head(10)"
   ]
  },
  {
   "cell_type": "code",
   "execution_count": null,
   "metadata": {},
   "outputs": [],
   "source": [
    "#create classes for columns which arent numbers\n",
    "competition_dummies = pd.get_dummies(prepared_matches_train['competition'], prefix='class', drop_first=True)\n",
    "matchday_dummies = pd.get_dummies(prepared_matches_train['match_day'], prefix='class', drop_first=True)\n",
    "confed_home_dummies = pd.get_dummies(prepared_matches_train['confederation_home'], prefix='class_home', drop_first=True)\n",
    "confed_away_dummies = pd.get_dummies(prepared_matches_train['confederation_away'], prefix='class_away', drop_first=True)\n",
    "\n",
    "prepared_matches_train = pd.concat([prepared_matches_train, competition_dummies, matchday_dummies, confed_home_dummies, confed_away_dummies],axis=1)\n",
    "\n",
    "prepared_matches_train = prepared_matches_train.drop('competition', axis=1)\n",
    "prepared_matches_train = prepared_matches_train.drop('match_day', axis=1)\n",
    "prepared_matches_train = prepared_matches_train.drop('confederation_home', axis=1)\n",
    "prepared_matches_train = prepared_matches_train.drop('confederation_away', axis=1)\n",
    "\n",
    "prepared_matches_train.tail(10)"
   ]
  },
  {
   "cell_type": "code",
   "execution_count": null,
   "metadata": {},
   "outputs": [],
   "source": [
    "#change change date to days_until_wm (better for models), also convert datetime64 to float\n",
    "\n",
    "prepared_matches_train[\"game_days_before_wm\"] = (np.datetime64('2018-06-14T00:00:00Z') - prepared_matches_train[\"date\"]).dt.total_seconds() / (24 * 60 * 60)\n",
    "prepared_matches_train[\"rank_home_days_before_wm\"] = (np.datetime64('2018-06-14T00:00:00Z') - prepared_matches_train[\"rank_date_home\"]).dt.total_seconds() / (24 * 60 * 60)\n",
    "prepared_matches_train[\"rank_away_days_before_wm\"] = (np.datetime64('2018-06-14T00:00:00Z') - prepared_matches_train[\"rank_date_away\"]).dt.total_seconds() / (24 * 60 * 60)\n",
    "\n",
    "prepared_matches_train = prepared_matches_train.drop('date', axis=1)\n",
    "prepared_matches_train = prepared_matches_train.drop('rank_date_home', axis=1)\n",
    "prepared_matches_train = prepared_matches_train.drop('rank_date_away', axis=1)\n",
    "\n",
    "prepared_matches_train.tail(10)"
   ]
  },
  {
   "cell_type": "code",
   "execution_count": null,
   "metadata": {},
   "outputs": [],
   "source": [
    "#convert the player objects to float\n",
    "prepared_matches_train = prepared_matches_train.astype('float64')\n",
    "\n",
    "pd.options.display.max_rows = 30#400\n",
    "print(prepared_matches_train.dtypes)\n",
    "\n"
   ]
  },
  {
   "cell_type": "code",
   "execution_count": null,
   "metadata": {},
   "outputs": [],
   "source": [
    "#change all NaN-values to 0.0. Bad solution, there are other, better ways to go\n",
    "prepared_matches_train = prepared_matches_train.fillna(0)\n",
    "prepared_matches_train.tail(10)"
   ]
  },
  {
   "cell_type": "markdown",
   "metadata": {},
   "source": [
    "## Model\n",
    "\n",
    "Code is from the AI workshop"
   ]
  },
  {
   "cell_type": "code",
   "execution_count": null,
   "metadata": {},
   "outputs": [],
   "source": [
    "from sklearn.decomposition import PCA\n",
    "from sklearn.model_selection import train_test_split\n",
    "from sklearn.linear_model import LogisticRegression\n",
    "from sklearn.metrics import accuracy_score\n",
    "from sklearn.metrics import confusion_matrix\n",
    "from sklearn.tree import DecisionTreeClassifier"
   ]
  },
  {
   "cell_type": "code",
   "execution_count": null,
   "metadata": {},
   "outputs": [],
   "source": [
    "# tell the models which dataframe columns are features and which one is the important label\n",
    "features = list(prepared_matches_train.columns.values)\n",
    "label = 'home_is_winner'\n",
    "\n",
    "features.remove(label)\n",
    "\n",
    "print(features)"
   ]
  },
  {
   "cell_type": "code",
   "execution_count": null,
   "metadata": {},
   "outputs": [],
   "source": [
    "#split the data into train and test\n",
    "all_X = prepared_matches_train[features]\n",
    "all_y = prepared_matches_train[label]\n",
    "\n",
    "train_X, test_X, train_y, test_y = train_test_split(\n",
    "    all_X, all_y, test_size=0.10, random_state=0)\n",
    "\n",
    "print('train', train_X.shape)\n",
    "print('test', test_X.shape)"
   ]
  },
  {
   "cell_type": "code",
   "execution_count": null,
   "metadata": {},
   "outputs": [],
   "source": [
    "lr = LogisticRegression()\n",
    "lr.fit(train_X, train_y)\n",
    "predictions = lr.predict(test_X)\n",
    "\n",
    "accuracy = accuracy_score(test_y, predictions)\n",
    "print(accuracy)"
   ]
  },
  {
   "cell_type": "code",
   "execution_count": null,
   "metadata": {},
   "outputs": [],
   "source": [
    "cf = confusion_matrix(test_y, predictions)\n",
    "\n",
    "print(cf)\n",
    "\n",
    "tn, fp, fn, tp = cf.ravel()\n",
    "print('True positives: ', tp)\n",
    "print('True negatives: ', tn)\n",
    "print('False positives: ', fp)\n",
    "print('False negatives: ', fn)"
   ]
  },
  {
   "cell_type": "code",
   "execution_count": null,
   "metadata": {},
   "outputs": [],
   "source": [
    "DTree = DecisionTreeClassifier(criterion='entropy', \n",
    "                               max_depth=5,\n",
    "                               min_samples_split=20,\n",
    "                               min_samples_leaf=5)\n",
    "\n",
    "DTree.fit(train_X, train_y)\n",
    "\n",
    "predictions = DTree.predict(test_X)\n",
    "\n",
    "accuracy = accuracy_score(test_y, predictions)\n",
    "\n",
    "print(accuracy)"
   ]
  },
  {
   "cell_type": "code",
   "execution_count": null,
   "metadata": {},
   "outputs": [],
   "source": [
    "cf = confusion_matrix(test_y, predictions)\n",
    "\n",
    "print(cf)\n",
    "\n",
    "tn, fp, fn, tp = cf.ravel()\n",
    "print('True positives: ', tp)\n",
    "print('True negatives: ', tn)\n",
    "print('False positives: ', fp)\n",
    "print('False negatives: ', fn)"
   ]
  },
  {
   "cell_type": "code",
   "execution_count": null,
   "metadata": {},
   "outputs": [],
   "source": [
    "list(zip(DTree.feature_importances_,features))"
   ]
  },
  {
   "cell_type": "markdown",
   "metadata": {},
   "source": [
    "## Model #2\n",
    "\n",
    "Now let's predict the WM 2014"
   ]
  },
  {
   "cell_type": "code",
   "execution_count": null,
   "metadata": {},
   "outputs": [],
   "source": [
    "prepared_matches_train.tail(10)"
   ]
  },
  {
   "cell_type": "code",
   "execution_count": null,
   "metadata": {},
   "outputs": [],
   "source": [
    "#get all games during WM 2014, print the last two games (Finale, Spiel um Platz 3).\n",
    "matches_wm2014 = prepared_matches_train[(1432 < prepared_matches_train.game_days_before_wm) & (prepared_matches_train.game_days_before_wm < 1465)]\n",
    "\n",
    "#prepared_matches_train = prepared_matches_train.drop([(1432 < prepared_matches_train.game_days_before_wm) & (prepared_matches_train.game_days_before_wm < 1465)], axis=0)\n",
    "\n",
    "matches_wm2014.tail(2)"
   ]
  },
  {
   "cell_type": "code",
   "execution_count": null,
   "metadata": {},
   "outputs": [],
   "source": [
    "#Validate: Is home-id of final Germany and away-id of final Argentina?\n",
    "print(prepared_matches[prepared_matches.id_int_home == 3262].country_name_home.head(1))\n",
    "print(prepared_matches[prepared_matches.id_int_home == 3437].country_name_home.head(1))"
   ]
  },
  {
   "cell_type": "code",
   "execution_count": null,
   "metadata": {},
   "outputs": [],
   "source": [
    "#todo\n",
    "#split data and try models to predict wm2014"
   ]
  },
  {
   "cell_type": "code",
   "execution_count": null,
   "metadata": {},
   "outputs": [],
   "source": []
  }
 ],
 "metadata": {
  "kernelspec": {
   "display_name": "Python 3",
   "language": "python",
   "name": "python3"
  },
  "language_info": {
   "codemirror_mode": {
    "name": "ipython",
    "version": 3
   },
   "file_extension": ".py",
   "mimetype": "text/x-python",
   "name": "python",
   "nbconvert_exporter": "python",
   "pygments_lexer": "ipython3",
   "version": "3.6.5"
  }
 },
 "nbformat": 4,
 "nbformat_minor": 2
}
