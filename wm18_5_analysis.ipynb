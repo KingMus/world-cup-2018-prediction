{
 "cells": [
  {
   "cell_type": "code",
   "execution_count": 11,
   "metadata": {},
   "outputs": [],
   "source": [
    "import os\n",
    "import numpy as np\n",
    "import pandas as pd\n",
    "import psycopg2\n",
    "from sqlalchemy import create_engine\n",
    "from datetime import datetime\n",
    "from pandas.api.types import CategoricalDtype\n",
    "import matplotlib.pyplot as plt\n",
    "import seaborn as sns\n",
    "pd.set_option('display.max_columns', 500)"
   ]
  },
  {
   "cell_type": "code",
   "execution_count": 28,
   "metadata": {},
   "outputs": [],
   "source": [
    "wm_analysis = pd.read_csv('matches_analysis.csv')"
   ]
  },
  {
   "cell_type": "code",
   "execution_count": 29,
   "metadata": {},
   "outputs": [
    {
     "data": {
      "text/plain": [
       "69"
      ]
     },
     "execution_count": 29,
     "metadata": {},
     "output_type": "execute_result"
    }
   ],
   "source": [
    "wm_analysis[\"score\"].sum()"
   ]
  },
  {
   "cell_type": "code",
   "execution_count": 30,
   "metadata": {},
   "outputs": [
    {
     "name": "stdout",
     "output_type": "stream",
     "text": [
      "Points gained Gruppenphase:  52\n",
      "Points gained Last 16:  6\n",
      "Points gained Last 8:  11\n",
      "Points gained Last 4:  0\n",
      "Points gained SmallFinale:  0\n",
      "Points gained Finale:  0\n"
     ]
    }
   ],
   "source": [
    "print(\"Points gained Gruppenphase: \", wm_analysis[\"score\"][0:48].sum())\n",
    "print(\"Points gained Last 16: \", wm_analysis[\"score\"][48:56].sum())\n",
    "print(\"Points gained Last 8: \", wm_analysis[\"score\"][56:60].sum())\n",
    "print(\"Points gained Last 4: \", wm_analysis[\"score\"][60:62].sum())\n",
    "print(\"Points gained SmallFinale: \", wm_analysis[\"score\"][62].sum())\n",
    "print(\"Points gained Finale: \", wm_analysis[\"score\"][63].sum())"
   ]
  },
  {
   "cell_type": "code",
   "execution_count": 63,
   "metadata": {},
   "outputs": [
    {
     "name": "stdout",
     "output_type": "stream",
     "text": [
      "Punkteverlauf (y) über Spiele (x)\n"
     ]
    },
    {
     "data": {
      "image/png": "[encoded data removed]",
      "text/plain": [
       "<Figure size 432x288 with 1 Axes>"
      ]
     },
     "metadata": {},
     "output_type": "display_data"
    }
   ],
   "source": [
    "sns.set(style=\"ticks\")\n",
    "\n",
    "plt.plot(np.cumsum(wm_analysis[\"score\"]))\n",
    "print(\"Punkteverlauf (y) über Spiele (x)\")"
   ]
  },
  {
   "cell_type": "code",
   "execution_count": 81,
   "metadata": {},
   "outputs": [
    {
     "name": "stdout",
     "output_type": "stream",
     "text": [
      "So oft wurde der Sieger richtig vorhergesagt: 25  mal, Quote: 0.390625\n",
      "So oft wurde die Tordifferenz richtig vorhergesagt: 12  mal, Quote: 0.1875\n",
      "So oft wurde das Ergebnis richtig vorhergesagt: 7  mal, Quote: 0.109375\n"
     ]
    }
   ],
   "source": [
    "correct_winner = wm_analysis.loc[wm_analysis[\"score\"] >= 2].shape[0]\n",
    "print(\"So oft wurde der Sieger richtig vorhergesagt:\",  correct_winner, \" mal, Quote:\", correct_winner/64)\n",
    "\n",
    "correct_difference = wm_analysis.loc[wm_analysis[\"score\"] >= 3].shape[0]\n",
    "print(\"So oft wurde die Tordifferenz richtig vorhergesagt:\", correct_difference, \" mal, Quote:\", correct_difference/64 )\n",
    "\n",
    "correct_result = wm_analysis.loc[wm_analysis[\"score\"] >= 4].shape[0]\n",
    "print(\"So oft wurde das Ergebnis richtig vorhergesagt:\", correct_result, \" mal, Quote:\", correct_result/64 )"
   ]
  }
 ],
 "metadata": {
  "kernelspec": {
   "display_name": "Python 3",
   "language": "python",
   "name": "python3"
  },
  "language_info": {
   "codemirror_mode": {
    "name": "ipython",
    "version": 3
   },
   "file_extension": ".py",
   "mimetype": "text/x-python",
   "name": "python",
   "nbconvert_exporter": "python",
   "pygments_lexer": "ipython3",
   "version": "3.6.5"
  }
 },
 "nbformat": 4,
 "nbformat_minor": 2
}
